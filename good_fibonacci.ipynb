{
 "cells": [
  {
   "cell_type": "markdown",
   "id": "0cabb20c",
   "metadata": {},
   "source": [
    "## Fibonacci with Dynamic Programming\n",
    "(a.k.a don't repeat work)"
   ]
  },
  {
   "cell_type": "code",
   "execution_count": 2,
   "id": "c23738f4",
   "metadata": {},
   "outputs": [],
   "source": [
    "# lookup table for results\n",
    "result_dict = {0: 1, 1: 1}\n",
    "\n",
    "def fib(n):\n",
    "    if n == 0:\n",
    "        return 0\n",
    "    elif n == 1:\n",
    "        return 1\n",
    "    else:\n",
    "        \n",
    "        # if already computed, use value in lookup table    \n",
    "        if (n - 1) in result_dict.keys(): \n",
    "            fibn1 = result_dict[n-1]\n",
    "        else:\n",
    "            # otherwise, compute\n",
    "            fibn1 = fib(n-1)\n",
    "        # if already computed, use value in lookup table    \n",
    "        if (n - 2) in result_dict.keys(): \n",
    "            fibn2 = result_dict[n-2]\n",
    "        else:\n",
    "            # otherwise, compute\n",
    "            fibn2 = fib(n-2)\n",
    "        \n",
    "        fibn = fibn1 + fibn2\n",
    "        \n",
    "        # store new result in lookup table\n",
    "        result_dict[n] = fibn\n",
    "        \n",
    "        return result_dict[n]\n",
    "        "
   ]
  },
  {
   "cell_type": "code",
   "execution_count": 3,
   "id": "3eec8e15",
   "metadata": {},
   "outputs": [
    {
     "name": "stdout",
     "output_type": "stream",
     "text": [
      "1.4 µs ± 140 ns per loop (mean ± std. dev. of 7 runs, 500 loops each)\n"
     ]
    }
   ],
   "source": [
    "calc_time = %timeit -n 500 -r 7 -o fib(18)"
   ]
  },
  {
   "cell_type": "markdown",
   "id": "96bd53ad",
   "metadata": {},
   "source": [
    "#### 1000 times faster than naive implementation. Disparity between solutions: larger as n increases."
   ]
  }
 ],
 "metadata": {
  "kernelspec": {
   "display_name": "Python 3 (ipykernel)",
   "language": "python",
   "name": "python3"
  },
  "language_info": {
   "codemirror_mode": {
    "name": "ipython",
    "version": 3
   },
   "file_extension": ".py",
   "mimetype": "text/x-python",
   "name": "python",
   "nbconvert_exporter": "python",
   "pygments_lexer": "ipython3",
   "version": "3.9.7"
  }
 },
 "nbformat": 4,
 "nbformat_minor": 5
}
