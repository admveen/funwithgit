{
 "cells": [
  {
   "cell_type": "markdown",
   "id": "0cabb20c",
   "metadata": {},
   "source": [
    "## Fibonacci with Dynamic Programming\n",
    "(a.k.a don't repeat work)"
   ]
  },
  {
   "cell_type": "markdown",
   "id": "96bd53ad",
   "metadata": {},
   "source": [
    "#### Fibonacci class"
   ]
  },
  {
   "cell_type": "code",
   "execution_count": 33,
   "id": "364ab68b",
   "metadata": {},
   "outputs": [],
   "source": [
    "class Fibonacci:\n",
    "    \n",
    "    def __init__(self, n):\n",
    "\n",
    "        self.n = n\n",
    "        self.result_dict = {0: 1, 1: 1}\n",
    "\n",
    "    def compute_sequence(self):\n",
    "        self.__fib(self.n)\n",
    "    \n",
    "    def __fib(self, n):\n",
    "        if n == 0:\n",
    "            return 0\n",
    "        elif n == 1:\n",
    "            return 1\n",
    "        else:\n",
    "            \n",
    "            # if already computed, use value in lookup table    \n",
    "            if (n - 1) in self.result_dict.keys(): \n",
    "                fibn1 = self.result_dict[n-1]\n",
    "            else:\n",
    "                # otherwise, compute\n",
    "                fibn1 = self.__fib(n-1)\n",
    "            # if already computed, use value in lookup table    \n",
    "            if (n - 2) in self.result_dict.keys(): \n",
    "                fibn2 = self.result_dict[n-2]\n",
    "            else:\n",
    "                # otherwise, compute\n",
    "                fibn2 = self.__fib(n-2)\n",
    "            \n",
    "            fibn = fibn1 + fibn2\n",
    "            \n",
    "            # store new result in lookup table\n",
    "            self.result_dict[n] = fibn\n",
    "            \n",
    "            return self.result_dict[n]\n",
    "            \n"
   ]
  },
  {
   "cell_type": "code",
   "execution_count": 50,
   "id": "51bbd9b6",
   "metadata": {},
   "outputs": [],
   "source": [
    "x = Fibonacci(9)"
   ]
  },
  {
   "cell_type": "code",
   "execution_count": 51,
   "id": "9eb7d6c4",
   "metadata": {},
   "outputs": [],
   "source": [
    "x.compute_sequence()"
   ]
  },
  {
   "cell_type": "code",
   "execution_count": 52,
   "id": "06f28f19",
   "metadata": {},
   "outputs": [
    {
     "data": {
      "text/plain": [
       "{0: 1, 1: 1, 2: 2, 3: 3, 4: 5, 5: 8, 6: 13, 7: 21, 8: 34, 9: 55}"
      ]
     },
     "execution_count": 52,
     "metadata": {},
     "output_type": "execute_result"
    }
   ],
   "source": [
    "x.result_dict"
   ]
  }
 ],
 "metadata": {
  "kernelspec": {
   "display_name": "Python 3 (ipykernel)",
   "language": "python",
   "name": "python3"
  },
  "language_info": {
   "codemirror_mode": {
    "name": "ipython",
    "version": 3
   },
   "file_extension": ".py",
   "mimetype": "text/x-python",
   "name": "python",
   "nbconvert_exporter": "python",
   "pygments_lexer": "ipython3",
   "version": "3.9.7"
  }
 },
 "nbformat": 4,
 "nbformat_minor": 5
}
