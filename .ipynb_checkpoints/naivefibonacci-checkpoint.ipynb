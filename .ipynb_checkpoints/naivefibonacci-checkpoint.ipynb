{
 "cells": [
  {
   "cell_type": "markdown",
   "id": "3bc36758",
   "metadata": {},
   "source": [
    "## Fibonacci (Naive)\n",
    "\n",
    "Implement the Fibonacci sequence with recursion naively. Element sum of previous two elements.\n",
    "\n",
    "0,1,1,2,3,5,8,13,21,34..."
   ]
  },
  {
   "cell_type": "code",
   "execution_count": 3,
   "id": "3208f570",
   "metadata": {},
   "outputs": [],
   "source": [
    "def fib(n):\n",
    "    if n == 0:\n",
    "        return 0\n",
    "    elif n == 1:\n",
    "        return 1\n",
    "    else:\n",
    "        return fib(n-1) + fib(n-2)\n",
    "        \n",
    "        "
   ]
  },
  {
   "cell_type": "code",
   "execution_count": 4,
   "id": "cece9cff",
   "metadata": {},
   "outputs": [
    {
     "name": "stdout",
     "output_type": "stream",
     "text": [
      "21\n"
     ]
    }
   ],
   "source": [
    "print(fib(8))"
   ]
  },
  {
   "cell_type": "code",
   "execution_count": 5,
   "id": "2f38fcda",
   "metadata": {},
   "outputs": [
    {
     "name": "stdout",
     "output_type": "stream",
     "text": [
      "10.4 µs ± 1.56 µs per loop (mean ± std. dev. of 7 runs, 500 loops each)\n"
     ]
    }
   ],
   "source": [
    "calc_time = %timeit -n 500 -r 7 -o fib(8)"
   ]
  },
  {
   "cell_type": "code",
   "execution_count": 9,
   "id": "5df62018",
   "metadata": {},
   "outputs": [
    {
     "name": "stdout",
     "output_type": "stream",
     "text": [
      "2584\n"
     ]
    }
   ],
   "source": [
    "print(fib(18))"
   ]
  },
  {
   "cell_type": "code",
   "execution_count": 10,
   "id": "aaf57829",
   "metadata": {},
   "outputs": [
    {
     "name": "stdout",
     "output_type": "stream",
     "text": [
      "1.17 ms ± 25.6 µs per loop (mean ± std. dev. of 7 runs, 500 loops each)\n"
     ]
    }
   ],
   "source": [
    "calc_time = %timeit -n 500 -r 7 -o fib(18)"
   ]
  },
  {
   "cell_type": "markdown",
   "id": "29fa3c68",
   "metadata": {},
   "source": [
    "#### Yikes! Not scalable. I need to change this!"
   ]
  }
 ],
 "metadata": {
  "kernelspec": {
   "display_name": "Python 3 (ipykernel)",
   "language": "python",
   "name": "python3"
  },
  "language_info": {
   "codemirror_mode": {
    "name": "ipython",
    "version": 3
   },
   "file_extension": ".py",
   "mimetype": "text/x-python",
   "name": "python",
   "nbconvert_exporter": "python",
   "pygments_lexer": "ipython3",
   "version": "3.9.7"
  }
 },
 "nbformat": 4,
 "nbformat_minor": 5
}
